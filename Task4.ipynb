{
 "cells": [
  {
   "cell_type": "code",
   "execution_count": 62,
   "id": "d1300c24-09f2-42c9-826c-785a0db2aa94",
   "metadata": {},
   "outputs": [],
   "source": [
    "import matplotlib.pyplot as plt\n",
    "import numpy as np\n",
    "import scipy.stats as sps\n",
    "import math"
   ]
  },
  {
   "cell_type": "code",
   "execution_count": 63,
   "id": "145a4727-2b15-4069-bf49-e3e4d64b981a",
   "metadata": {},
   "outputs": [],
   "source": [
    "n = 100\n",
    "teta = 13\n",
    "eps = 0.05\n",
    "x = np.random.uniform(teta,2*teta,n)\n",
    "x = x.round(2)"
   ]
  },
  {
   "cell_type": "markdown",
   "id": "5fe12685-4674-4136-922c-b44c60c2a920",
   "metadata": {},
   "source": [
    "# F-H Доверительные интервалы"
   ]
  },
  {
   "cell_type": "markdown",
   "id": "29bae7e5-2f0b-4399-aa22-ff06f1c98c5a",
   "metadata": {},
   "source": [
    "## Точный Д.И."
   ]
  },
  {
   "cell_type": "code",
   "execution_count": 64,
   "id": "228e18bf-d25c-4011-8566-bc501cc6951e",
   "metadata": {},
   "outputs": [
    {
     "data": {
      "text/plain": [
       "(12.96832508773577, 13.159183822470363)"
      ]
     },
     "execution_count": 64,
     "metadata": {},
     "output_type": "execute_result"
    }
   ],
   "source": [
    "a1_acc, a2_acc =  x.max()/(1 + (1-eps)**(1/n)), x.max()/(1+eps**(1/n))\n",
    "(a1_acc, a2_acc)"
   ]
  },
  {
   "cell_type": "markdown",
   "id": "83af9fb4-10bb-4993-8598-12847fc5930b",
   "metadata": {},
   "source": [
    "## Асимптотический(ОММ) Д.И."
   ]
  },
  {
   "cell_type": "code",
   "execution_count": 65,
   "id": "67e26192-938e-4237-8258-f21d0b08dc32",
   "metadata": {},
   "outputs": [
    {
     "data": {
      "text/plain": [
       "(12.843348590203119, 13.744784743130213)"
      ]
     },
     "execution_count": 65,
     "metadata": {},
     "output_type": "execute_result"
    }
   ],
   "source": [
    "a1_as, a2_as = ( 2/3*x.mean() - 1.3*((x**2).mean() - x.mean()**2)**(0.5)/(n**0.5),\n",
    "                 2/3*x.mean() + 1.3*((x**2).mean() - x.mean()**2)**(0.5)/(n**0.5) )\n",
    "(a1_as, a2_as)"
   ]
  },
  {
   "cell_type": "markdown",
   "id": "c5c9b8e0-0999-48e5-9477-722f031019dd",
   "metadata": {},
   "source": [
    "## Bootstrap"
   ]
  },
  {
   "cell_type": "code",
   "execution_count": 66,
   "id": "b66c8d4d-9623-4734-b599-ec2760c55b46",
   "metadata": {},
   "outputs": [
    {
     "data": {
      "text/plain": [
       "(12.862866666666662, 13.764133333333332)"
      ]
     },
     "execution_count": 66,
     "metadata": {},
     "output_type": "execute_result"
    }
   ],
   "source": [
    "delta = np.array([])\n",
    "teta_ = 2/3*x.mean()\n",
    "for i in range(0,1000):\n",
    "    bootstrap = np.random.choice(x, size=x.shape[0]).round(2) \n",
    "    delta = np.append(delta, 2/3*bootstrap.mean() - teta_)\n",
    "    \n",
    "delta.sort() \n",
    "a1_b, a2_b = teta_ - delta[974], teta_ - delta[24]\n",
    "(a1_b, a2_b)"
   ]
  },
  {
   "cell_type": "code",
   "execution_count": 67,
   "id": "b69d80e5-40ca-4ce6-ba2c-dd1742080237",
   "metadata": {},
   "outputs": [
    {
     "data": {
      "text/plain": [
       "<matplotlib.legend.Legend at 0x16d612b5520>"
      ]
     },
     "execution_count": 67,
     "metadata": {},
     "output_type": "execute_result"
    },
    {
     "data": {
      "image/png": "[encoded data removed]",
      "text/plain": [
       "<Figure size 576x360 with 1 Axes>"
      ]
     },
     "metadata": {
      "needs_background": "light"
     },
     "output_type": "display_data"
    }
   ],
   "source": [
    "fig, ax = plt.subplots(figsize=(8,5))\n",
    "\n",
    "ax.plot([a1_acc, a2_acc], [0, 0], label = 'Accuracy')\n",
    "ax.plot([a1_as, a2_as], [1, 1], label = 'Asympt(OMM)')\n",
    "ax.plot([a1_b, a2_b], [2, 2], label = 'Bootstrap')\n",
    "ax.plot([teta, teta], [0, 2], label = 'teta')\n",
    "\n",
    "ax.set_xlabel('theta interval')\n",
    "ax.legend(loc = 'best')"
   ]
  }
 ],
 "metadata": {
  "kernelspec": {
   "display_name": "Python 3 (ipykernel)",
   "language": "python",
   "name": "python3"
  },
  "language_info": {
   "codemirror_mode": {
    "name": "ipython",
    "version": 3
   },
   "file_extension": ".py",
   "mimetype": "text/x-python",
   "name": "python",
   "nbconvert_exporter": "python",
   "pygments_lexer": "ipython3",
   "version": "3.8.3"
  }
 },
 "nbformat": 4,
 "nbformat_minor": 5
}
