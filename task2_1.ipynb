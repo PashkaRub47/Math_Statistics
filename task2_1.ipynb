{
 "cells": [
  {
   "cell_type": "code",
   "execution_count": 29,
   "id": "04da80ab-6dde-4fdd-bdf1-249b50289e4b",
   "metadata": {},
   "outputs": [],
   "source": [
    "import matplotlib.pyplot as plt\n",
    "import numpy as np\n",
    "import scipy.stats as sps\n",
    "from scipy import stats\n",
    "import math \n",
    "import statistics \n",
    "from scipy.integrate import quad\n",
    "import seaborn as sns\n",
    "from scipy.stats import chi2, t, f, norm"
   ]
  },
  {
   "cell_type": "code",
   "execution_count": 30,
   "id": "ee3cfd63-8555-4a94-ba8d-8f98063ceb27",
   "metadata": {},
   "outputs": [],
   "source": [
    "N = 50 # размерность выборки\n",
    "p = 6 # количество признаков, 5 факторов и отклик\n",
    "coef = np.array([3, -2, 1, 1, -1])"
   ]
  },
  {
   "cell_type": "code",
   "execution_count": 31,
   "id": "43dded6a-f19b-47a0-b316-7de1f62d944f",
   "metadata": {},
   "outputs": [],
   "source": [
    "data = np.array([np.random.uniform(low = -1.0, high = 1.0, size = 5) for i in range(N)])\n",
    "target = np.array([np.random.normal(2 + np.sum(i * coef), 1.5) for i in data])"
   ]
  },
  {
   "cell_type": "markdown",
   "id": "29acf679-cf53-47e3-8c5a-13b8b4a07ce0",
   "metadata": {},
   "source": [
    "# A - мультиколлинеарность"
   ]
  },
  {
   "cell_type": "code",
   "execution_count": 32,
   "id": "8249d321-219e-4073-b722-0915f6b4cdff",
   "metadata": {},
   "outputs": [],
   "source": [
    "R_2_res = []\n",
    "for i in range(5):\n",
    "    psi = np.ones((N,1))\n",
    "    psi = np.hstack([psi, np.delete(data, i, 1)])\n",
    "    y = data[:,i]\n",
    "    F = psi.T @ psi\n",
    "    F_1 = np.linalg.inv(F)\n",
    "    beta = F_1@psi.T @ y\n",
    "    rss = (y-psi @ beta).T @ (y-psi @ beta)\n",
    "    tss = np.sum((y-y.mean())**2) \n",
    "    R_2_res.append(1-rss/tss)"
   ]
  },
  {
   "cell_type": "code",
   "execution_count": 33,
   "id": "d75110d0-1841-4913-baec-bb1907ecd474",
   "metadata": {},
   "outputs": [
    {
     "name": "stdout",
     "output_type": "stream",
     "text": [
      "[0.01500550131378986, 0.10587981054215145, 0.10896798362566606, 0.07755936911153971, 0.07658822004337462]\n",
      "значения < 0.7 => слабая зависимость\n"
     ]
    }
   ],
   "source": [
    "print(R_2_res)\n",
    "print('значения < 0.7 => слабая зависимость')"
   ]
  },
  {
   "cell_type": "markdown",
   "id": "16404cd2-c0da-4f72-ac2a-fe1d29ec1698",
   "metadata": {},
   "source": [
    "# B - Определить уравнение лин. регр. и проверить значимость коэф."
   ]
  },
  {
   "cell_type": "code",
   "execution_count": 34,
   "id": "890c7b5f-bdd2-4a86-929a-c7c030975b78",
   "metadata": {},
   "outputs": [
    {
     "name": "stdout",
     "output_type": "stream",
     "text": [
      "2.19 + 2.59x1 + -2.81x2 + 1.35x3 + 0.79x4 + -0.83x5\n"
     ]
    }
   ],
   "source": [
    "psi = np.ones((N,1))\n",
    "psi = np.hstack([psi, data])\n",
    "\n",
    "F = psi.T @ psi\n",
    "F_1 = np.linalg.inv(F)\n",
    "beta = F_1@psi.T @ target\n",
    "rss = (target - psi @ beta).T @ (target-psi @ beta)\n",
    "tss = np.sum((target-target.mean())**2)\n",
    "\n",
    "print(f\"{beta[0]:.2f} + {beta[1]:.2f}x1 + {beta[2]:.2f}x2 + {beta[3]:.2f}x3 + {beta[4]:.2f}x4 + {beta[5]:.2f}x5\") "
   ]
  },
  {
   "cell_type": "markdown",
   "id": "0f4b5267-e87b-4298-b42f-f68e7c5c0ae3",
   "metadata": {},
   "source": [
    "### Проверка значимости"
   ]
  },
  {
   "cell_type": "code",
   "execution_count": 35,
   "id": "3af62150-1551-43c1-9420-c94ace197e89",
   "metadata": {},
   "outputs": [
    {
     "name": "stdout",
     "output_type": "stream",
     "text": [
      "p-value for feach 0: 2.7607044230617627e-14\n",
      "p-value for feach 1: 6.215999328566451e-11\n",
      "p-value for feach 2: 3.4675338821232153e-10\n",
      "p-value for feach 3: 0.0005208769239329759\n",
      "p-value for feach 4: 0.028416007079408837\n",
      "p-value for feach 5: 0.013791827387060869\n",
      "\n",
      "Все значения < 0.05 => Отвергаем H0 о незначимости\n"
     ]
    }
   ],
   "source": [
    "p_value_coef =  np.array([])\n",
    "for i in range(len(beta)):\n",
    "    delta = beta[i]/(np.sqrt(rss*F_1[i,i]))*np.sqrt(N-p)\n",
    "    p_value_coef = np.append(p_value_coef, 2*t.sf(abs(delta), N-p))\n",
    "    print(f\"p-value for feach {i}: {2*t.sf(abs(delta), N-p)}\")\n",
    "print('\\nВсе значения < 0.05 => Отвергаем H0 о незначимости')"
   ]
  },
  {
   "cell_type": "markdown",
   "id": "a77ed212-7ad8-41dc-a27a-ac1ae2de105d",
   "metadata": {},
   "source": [
    "# C - коэф детерминации и его значимость"
   ]
  },
  {
   "cell_type": "code",
   "execution_count": 36,
   "id": "77486ff2-61ae-4fd0-b55e-32359b627f26",
   "metadata": {},
   "outputs": [
    {
     "name": "stdout",
     "output_type": "stream",
     "text": [
      "Коэффициент детерминации = 0.7777442543737277\n"
     ]
    }
   ],
   "source": [
    "R_2 = 1-rss/tss\n",
    "print(f\"Коэффициент детерминации = {R_2}\")"
   ]
  },
  {
   "cell_type": "code",
   "execution_count": 37,
   "id": "18695cd4-8e89-4949-bd4c-f56e1dff87e2",
   "metadata": {},
   "outputs": [
    {
     "name": "stdout",
     "output_type": "stream",
     "text": [
      "p-value: 5.5551050315294503e-08\n",
      "\n",
      "p-value < 0.05 => Отвергаем H0 о незначимости регрессии\n"
     ]
    }
   ],
   "source": [
    "delta_R_2 = R_2**2/(1-R_2**2)*(N-p)/(p-1)\n",
    "print(f\"p-value: {1- f.cdf(abs(delta_R_2), p-1, N-p)}\")\n",
    "print('\\np-value < 0.05 => Отвергаем H0 о незначимости регрессии')"
   ]
  },
  {
   "cell_type": "markdown",
   "id": "efa65c56-e559-4e7e-b50c-2df9aac9a1df",
   "metadata": {},
   "source": [
    "# D - Найти значение в точке Xk = 0 и построить 95% доверительный интервал"
   ]
  },
  {
   "cell_type": "code",
   "execution_count": 38,
   "id": "c3882609-6778-44b5-9292-dba43de0d43f",
   "metadata": {},
   "outputs": [
    {
     "data": {
      "text/plain": [
       "2.194164648221038"
      ]
     },
     "execution_count": 38,
     "metadata": {},
     "output_type": "execute_result"
    }
   ],
   "source": [
    "psi_d = np.zeros_like(beta)\n",
    "psi_d[0] = 1\n",
    "y_d = np.sum(psi_d*beta)\n",
    "y_d"
   ]
  },
  {
   "cell_type": "code",
   "execution_count": 39,
   "id": "08f5e155-6335-4222-990a-a4e5bdf3db20",
   "metadata": {},
   "outputs": [
    {
     "name": "stdout",
     "output_type": "stream",
     "text": [
      "2.0152\n",
      "2.0153\n",
      "2.0154\n",
      "2.0155\n"
     ]
    }
   ],
   "source": [
    "for i in np.arange(2, 5, 0.0001):\n",
    "    if abs(t.cdf(i, N-p) - 0.975)< 0.00001:\n",
    "        print(f\"{i:.4f}\")"
   ]
  },
  {
   "cell_type": "code",
   "execution_count": 40,
   "id": "e3d42794-7fe0-453d-843d-8b6dfa7b61c1",
   "metadata": {},
   "outputs": [
    {
     "name": "stdout",
     "output_type": "stream",
     "text": [
      "\n",
      "Д.И. : (-0.556, 4.945)\n"
     ]
    }
   ],
   "source": [
    "delta_d = 2.0154*np.sqrt(1+psi_d@F_1@psi_d.T)*np.sqrt(rss/(N-p)) \n",
    "print(f\"\\nД.И. : ({y_d-delta_d:.3f}, {y_d+delta_d:.3f})\")"
   ]
  },
  {
   "cell_type": "markdown",
   "id": "e9ce4ebf-993f-49d3-ad6c-238d427df59e",
   "metadata": {},
   "source": [
    "# E - предположение о независимости ошибок измерения"
   ]
  },
  {
   "cell_type": "code",
   "execution_count": 41,
   "id": "47eaf316-fcc8-481a-90cc-06a8286f7562",
   "metadata": {},
   "outputs": [
    {
     "name": "stdout",
     "output_type": "stream",
     "text": [
      "Число нарушений порядка:  649\n"
     ]
    }
   ],
   "source": [
    "error = target - psi@beta\n",
    "I = 0\n",
    "for i in range(1, len(error)):\n",
    "    I += np.sum(error[i:] < error[i-1])\n",
    "print('Число нарушений порядка: ',I)"
   ]
  },
  {
   "cell_type": "code",
   "execution_count": 42,
   "id": "6d8d2179-c572-43f3-8c87-8a7d7daf8e06",
   "metadata": {},
   "outputs": [
    {
     "name": "stdout",
     "output_type": "stream",
     "text": [
      "p-value: 0.5356360601029109\n",
      "\n",
      " p-value > 0.05 => Нет оснований отвергнуть H0\n"
     ]
    }
   ],
   "source": [
    "delta_e = (I-N*(N-1)/4)/np.sqrt(N**3/36)\n",
    "print(f\"p-value: {2*(norm.sf(abs(delta_e), 0, 1))}\")\n",
    "print('\\n p-value > 0.05 => Нет оснований отвергнуть H0')"
   ]
  },
  {
   "cell_type": "markdown",
   "id": "aba8a7ae-9fa4-4daa-92c1-1e8b3ff333ca",
   "metadata": {},
   "source": [
    "# F - предположение о нормальности распределения ошибок"
   ]
  },
  {
   "cell_type": "code",
   "execution_count": 43,
   "id": "d1969c22-bb49-481c-8154-04096a317c6b",
   "metadata": {},
   "outputs": [],
   "source": [
    "def ecdf(values):\n",
    "    X_ = sorted(set(values))\n",
    "    Y_ = [np.mean(values < x) for x in X_]\n",
    "    X = sum([[v, v] for v in X_], [])\n",
    "    Y = sum([[v, v] for v in Y_], [])\n",
    "    Y = Y[1:]+[1]\n",
    "    #plt.plot(X, Y)\n",
    "    return X, Y"
   ]
  },
  {
   "cell_type": "code",
   "execution_count": 44,
   "id": "daa727b8-24a9-4803-bc71-d3c719f8027a",
   "metadata": {},
   "outputs": [
    {
     "data": {
      "image/png": "[encoded data removed]",
      "text/plain": [
       "<Figure size 432x288 with 1 Axes>"
      ]
     },
     "metadata": {
      "needs_background": "light"
     },
     "output_type": "display_data"
    }
   ],
   "source": [
    "sigma = np.sqrt(error.var())  #np.sqrt(variance_est)\n",
    "X_ecdf, Y_ecdf = ecdf(error)\n",
    "Y_error = norm.cdf(np.sort(error), 0, sigma)\n",
    "delta_f = np.sqrt(N)*(np.max(abs(Y_error.repeat(2)-Y_ecdf)))\n",
    "\n",
    "plt.plot(np.linspace(min(error), max(error), N), Y_error)\n",
    "plt.plot(X_ecdf, Y_ecdf)\n",
    "plt.show()"
   ]
  },
  {
   "cell_type": "code",
   "execution_count": 45,
   "id": "4530efef-7f3f-4219-a6f7-44ec1f51c047",
   "metadata": {},
   "outputs": [
    {
     "data": {
      "text/plain": [
       "0.5549306222393995"
      ]
     },
     "execution_count": 45,
     "metadata": {},
     "output_type": "execute_result"
    }
   ],
   "source": [
    "delta_f"
   ]
  },
  {
   "cell_type": "markdown",
   "id": "f60b8a08-2a58-4bd8-a8bf-7c1361036599",
   "metadata": {},
   "source": [
    "### Парам. бутстрап"
   ]
  },
  {
   "cell_type": "code",
   "execution_count": 46,
   "id": "74e478b7-2f32-42e9-aa49-f83e417adea9",
   "metadata": {},
   "outputs": [],
   "source": [
    "delta_arr = np.array([])\n",
    "for i in range(10000):\n",
    "    error_i = np.random.normal(0, sigma, size = N)\n",
    "    m_i, sigma_i = error_i.mean(), error_i.var() \n",
    "    Y_error_i = norm.cdf(np.sort(error_i), m_i, sigma_i)\n",
    "    _, Y_ecdf_i = ecdf(error_i)\n",
    "    delta_i = np.sqrt(N)*(np.max(abs(Y_error_i.repeat(2)-Y_ecdf_i)))\n",
    "    delta_arr = np.append(delta_arr, delta_i)"
   ]
  },
  {
   "cell_type": "code",
   "execution_count": 47,
   "id": "82f3fdd1-6ed7-4b32-94e3-222630d8b559",
   "metadata": {},
   "outputs": [
    {
     "name": "stdout",
     "output_type": "stream",
     "text": [
      "p_value  = 0.8913\n",
      "\n",
      " Нет оснований отвергнуть H0 о нормальности распределения\n"
     ]
    }
   ],
   "source": [
    "delta_arr.sort()\n",
    "k_ = sum(delta_arr < delta_f)\n",
    "k_ += 1\n",
    "\n",
    "p_value_f = 1 - (k_ - 1)/10000\n",
    "print(f\"p_value  = {p_value_f}\")\n",
    "print('\\n Нет оснований отвергнуть H0 о нормальности распределения')"
   ]
  },
  {
   "cell_type": "markdown",
   "id": "2288f367-0bf1-42fd-adf6-f579228eab86",
   "metadata": {},
   "source": [
    "# G - Исследовать регрессию на выбросы"
   ]
  },
  {
   "cell_type": "code",
   "execution_count": 48,
   "id": "618c0e95-17b5-4048-b5e2-d51adda188bd",
   "metadata": {},
   "outputs": [
    {
     "name": "stdout",
     "output_type": "stream",
     "text": [
      "12 2.8444725660111407\n",
      "20 -3.0027840901036402\n"
     ]
    }
   ],
   "source": [
    "sigma_g = np.median(abs(error))/0.675\n",
    "row_del = []\n",
    "N_g = N\n",
    "for i,e in enumerate(error):\n",
    "    if e<=-2*sigma_g or e>=2*sigma_g:\n",
    "        N_g -=1\n",
    "        row_del.append(i)\n",
    "        print(i,e)\n",
    "data_g = np.delete(data, (row_del), axis=0)\n",
    "target_g = np.delete(target, row_del)\n",
    "psi_g = np.ones((N_g,1))\n",
    "psi_g = np.hstack([psi_g, data_g])\n",
    "\n",
    "F_g = psi_g.T @ psi_g\n",
    "F_1_g = np.linalg.inv(F_g)\n",
    "beta_g = F_1_g@psi_g.T @ target_g\n",
    "rss_g = (target_g - psi_g @ beta_g).T @ (target_g-psi_g @ beta_g)\n",
    "tss_g = np.sum((target_g-target_g.mean())**2)"
   ]
  },
  {
   "cell_type": "code",
   "execution_count": 49,
   "id": "0c33a359-f8fb-40a8-82f5-739d1db21fae",
   "metadata": {},
   "outputs": [
    {
     "name": "stdout",
     "output_type": "stream",
     "text": [
      "R2 до удаления выбросов: 0.7777442543737277\n",
      "R2 после удаления выбросов:0.8093128993665363\n"
     ]
    }
   ],
   "source": [
    "R_2_g = 1-rss_g/tss_g \n",
    "print(f\"R2 до удаления выбросов: {R_2}\")\n",
    "print(f\"R2 после удаления выбросов:{R_2_g}\")"
   ]
  },
  {
   "cell_type": "markdown",
   "id": "e86b76bc-6871-4a8a-845d-9b18011c54ae",
   "metadata": {},
   "source": [
    "# H - кросс-проверка регрессии"
   ]
  },
  {
   "cell_type": "code",
   "execution_count": 50,
   "id": "2d9901b1-0419-4de6-850b-ccad2095c4c9",
   "metadata": {},
   "outputs": [
    {
     "data": {
      "text/plain": [
       "0.7120232171177411"
      ]
     },
     "execution_count": 50,
     "metadata": {},
     "output_type": "execute_result"
    }
   ],
   "source": [
    "CV_array = np.array([])\n",
    "for i in range(N):\n",
    "    data_h = np.delete(data, i, axis=0)\n",
    "    target_h = np.delete(target, i)\n",
    "    psi_h = np.ones((N-1, 1))\n",
    "    psi_h = np.hstack([psi_h, data_h])\n",
    "    \n",
    "    F_h = psi_h.T @ psi_h\n",
    "    F_1_h = np.linalg.inv(F_h)\n",
    "    beta_h = F_1_h @ psi_h.T @ target_h\n",
    "    CV_array = np.append(CV_array, (np.insert(data[i], 0, 1)@beta_h - target[i])**2)\n",
    "R_cv = 1- np.sum(CV_array)/tss\n",
    "R_cv"
   ]
  },
  {
   "cell_type": "markdown",
   "id": "7e4aacb0-a56e-463d-9fc8-ff90dd2b9601",
   "metadata": {},
   "source": [
    "# I - проверить адекватность регрессии"
   ]
  },
  {
   "cell_type": "code",
   "execution_count": 51,
   "id": "9c2ab5c2-5590-4dec-a789-d71c30a11cbc",
   "metadata": {},
   "outputs": [
    {
     "name": "stdout",
     "output_type": "stream",
     "text": [
      "p_value: 0.1957093676124311\n",
      "\n",
      " Нет оснований отвергнуть H0 о равенстве диспресий\n"
     ]
    }
   ],
   "source": [
    "k = 5\n",
    "teta_arr = np.array([])\n",
    "for i in range(k):\n",
    "    teta_arr = np.append(teta_arr, np.random.normal(2+np.sum(coef*1), 1.5))\n",
    "variance_5 = 1/(k-1)*np.sum((teta_arr - np.mean(teta_arr))**2)\n",
    "delta_5 = rss/((N-p)*variance_5)\n",
    "\n",
    "p_value_5 = f.sf(delta_5, N-p, k-1)\n",
    "print(f\"p_value: {p_value_5}\")\n",
    "print('\\n Нет оснований отвергнуть H0 о равенстве диспресий')"
   ]
  },
  {
   "cell_type": "markdown",
   "id": "b319a145-25ea-43e0-b056-49c298598f29",
   "metadata": {},
   "source": [
    "# J - удалить переменную, соответствующую наименее значимому коэффициенту и повторить пункты b и c"
   ]
  },
  {
   "cell_type": "code",
   "execution_count": 55,
   "id": "39781f07-5f4e-4b02-ba56-1eb3d181be11",
   "metadata": {},
   "outputs": [
    {
     "name": "stdout",
     "output_type": "stream",
     "text": [
      "наименее значимый :  4\n"
     ]
    }
   ],
   "source": [
    "print('наименее значимый : ', p_value_coef.argmax()) \n"
   ]
  },
  {
   "cell_type": "code",
   "execution_count": 59,
   "id": "29316637-561b-4e6c-a5df-ddef2aaf3c78",
   "metadata": {},
   "outputs": [
    {
     "name": "stdout",
     "output_type": "stream",
     "text": [
      "2.26 + 2.55x1 + -2.76x2 + 1.46x3 + 0.59x4\n"
     ]
    }
   ],
   "source": [
    "data_j = np.delete(data, p_value_coef.argmax(), axis=1)\n",
    "psi_j = np.ones((N,1))\n",
    "psi_j = np.hstack([psi_j, data_j])\n",
    "\n",
    "F_j = psi_j.T @ psi_j\n",
    "F_1_j = np.linalg.inv(F_j)\n",
    "beta_j = F_1_j@psi_j.T @ target\n",
    "rss_j = (target - psi_j @ beta_j).T @ (target - psi_j @ beta_j)\n",
    "tss_j = np.sum((target - target.mean())**2)\n",
    "print(f\"{beta_j[0]:.2f} + {beta_j[1]:.2f}x1 + {beta_j[2]:.2f}x2 + {beta_j[3]:.2f}x3 + {beta_j[4]:.2f}x4\") "
   ]
  },
  {
   "cell_type": "code",
   "execution_count": 61,
   "id": "4015a16d-9fa6-4956-9834-0133a38a505f",
   "metadata": {},
   "outputs": [
    {
     "name": "stdout",
     "output_type": "stream",
     "text": [
      "p-value for feach 0: 6.959060538140691e-14\n",
      "p-value for feach 1: 5.831891650076406e-10\n",
      "p-value for feach 2: 3.2885234055161317e-09\n",
      "p-value for feach 3: 0.00043681606116755797\n",
      "p-value for feach 4: 0.11193322572430585\n",
      "4ый не значимый\n"
     ]
    }
   ],
   "source": [
    "p_value_coef_j =  np.array([])\n",
    "for i in range(len(beta_j)):\n",
    "    delta_j = beta_j[i]/(np.sqrt(rss_j*F_1_j[i,i]))*np.sqrt(N-p)\n",
    "    p_value_coef_j = np.append(p_value_coef_j, 2*t.sf(abs(delta_j), N-p))\n",
    "    print(f\"p-value for feach {i}: {2*t.sf(abs(delta_j), N-p)}\")\n",
    "print('4ый не значимый')"
   ]
  },
  {
   "cell_type": "code",
   "execution_count": 62,
   "id": "90a12e86-951b-41d7-b747-e11f5ce929c1",
   "metadata": {},
   "outputs": [
    {
     "name": "stdout",
     "output_type": "stream",
     "text": [
      "коэф. детерминации, после удаления  0.744501400296687\n"
     ]
    }
   ],
   "source": [
    "print(f\"коэф. детерминации, после удаления  {(tss_j-rss_j)/tss_j}\")"
   ]
  },
  {
   "cell_type": "markdown",
   "id": "6de6043e-c63e-437a-9f63-98d1ccf4e4fc",
   "metadata": {},
   "source": [
    "# K - сравнить ураванения регрессии бутстрапом"
   ]
  },
  {
   "cell_type": "code",
   "execution_count": 66,
   "id": "e520fa68-fc30-4e0e-98c5-ef9fa2bad24f",
   "metadata": {},
   "outputs": [],
   "source": [
    "# H0 - 4 переменные. # H1 - 5\n",
    "delta_k = (rss_j - rss)/rss*(N - p)/(p - (p-1))\n",
    "def get_bootstrap_samples(data, target, n_samples):\n",
    "    indices = np.random.randint(0, len(data), (n_samples, len(data)))\n",
    "    return data[indices], target[indices]\n",
    "\n",
    "delta_k_arr = np.array([])\n",
    "\n",
    "for i in range(1000):\n",
    "    data_k, target_k = get_bootstrap_samples(data, target, 1)\n",
    "    data_k, target_k = data_k[0], target_k[0]\n",
    "    data_k_5 = np.delete(data_k, p_value_coef.argmax(), axis=1)\n",
    "    \n",
    "    psi_k = np.ones((N,1))\n",
    "    psi_k_5 = np.hstack([psi_k, data_k_5]) # Тут 4 признака и свободный член\n",
    "    psi_k = np.hstack([psi_k, data_k]) # Тут 5 признаков и свободный член\n",
    "    \n",
    "    rss_k = (target_k - psi_k @ beta).T @ (target_k - psi_k @ beta)\n",
    "    rss_k_5 = (target_k - psi_k_5 @ beta_j).T @ (target_k - psi_k_5 @ beta_j)\n",
    "    \n",
    "    delta_k_arr = np.append(delta_k_arr, (rss_k_5 - rss_k)/rss_k*(N - p)/(p - (p-1)))"
   ]
  },
  {
   "cell_type": "code",
   "execution_count": 69,
   "id": "6b91b02c-43d6-4f2f-9716-3d15eedfe5fd",
   "metadata": {},
   "outputs": [
    {
     "name": "stdout",
     "output_type": "stream",
     "text": [
      "p_value bootstrap = 0.51\n",
      "Нет оснований отвергнуть H0 => добавление переменной не значимо\n"
     ]
    }
   ],
   "source": [
    "delta_k_arr.sort()\n",
    "k_k = sum(delta_k_arr < delta_k)\n",
    "k_k += 1\n",
    "\n",
    "p_value_k = 1 - (k_k - 1)/1000\n",
    "print(f\"p_value bootstrap = {p_value_k}\")\n",
    "print('Нет оснований отвергнуть H0 => добавление переменной не значимо')"
   ]
  },
  {
   "cell_type": "code",
   "execution_count": null,
   "id": "ac90210c-e91a-4835-9a72-64060b0f2981",
   "metadata": {},
   "outputs": [],
   "source": []
  }
 ],
 "metadata": {
  "kernelspec": {
   "display_name": "Python 3 (ipykernel)",
   "language": "python",
   "name": "python3"
  },
  "language_info": {
   "codemirror_mode": {
    "name": "ipython",
    "version": 3
   },
   "file_extension": ".py",
   "mimetype": "text/x-python",
   "name": "python",
   "nbconvert_exporter": "python",
   "pygments_lexer": "ipython3",
   "version": "3.8.3"
  }
 },
 "nbformat": 4,
 "nbformat_minor": 5
}
