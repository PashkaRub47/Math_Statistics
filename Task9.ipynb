{
 "cells": [
  {
   "cell_type": "code",
   "execution_count": 2,
   "id": "1e024519-b7b9-4d98-8043-add1bc20d589",
   "metadata": {},
   "outputs": [],
   "source": [
    "import matplotlib.pyplot as plt\n",
    "import numpy as np\n",
    "import scipy.stats as sps\n",
    "from scipy import stats\n",
    "import math \n",
    "import statistics \n",
    "from scipy.integrate import quad\n",
    "import seaborn as sns\n",
    "from scipy.stats import chi2"
   ]
  },
  {
   "cell_type": "code",
   "execution_count": 3,
   "id": "3753418f-2eb8-4c12-a34c-873eb58a183c",
   "metadata": {},
   "outputs": [
    {
     "data": {
      "text/plain": [
       "array([0., 0., 0., 0., 0., 1., 1., 1., 1., 1., 1., 1., 1., 2., 2., 2., 2.,\n",
       "       2., 2., 3., 3., 3., 3., 3., 3., 3., 3., 3., 3., 3., 3., 4., 4., 4.,\n",
       "       4., 4., 4., 4., 4., 4., 4., 4., 4., 4., 4., 5., 5., 5., 5., 5., 5.,\n",
       "       5., 5., 5., 5., 5., 5., 5., 5., 5., 5., 5., 5., 6., 6., 6., 6., 6.,\n",
       "       6., 6., 6., 6., 6., 6., 7., 7., 7., 7., 7., 7., 8., 8., 8., 8., 8.,\n",
       "       8., 8., 8., 8., 8., 8., 8., 8., 9., 9., 9., 9., 9., 9., 9.])"
      ]
     },
     "execution_count": 3,
     "metadata": {},
     "output_type": "execute_result"
    }
   ],
   "source": [
    "x = np.array([5,8,6,12,14,18,11,6,13,7])\n",
    "N = 100\n",
    "x_arr = np.array([])\n",
    "for i in range (0,10):\n",
    "    for j in range (0, x[i]):\n",
    "        x_arr = np.append([x_arr], i)\n",
    "x_arr"
   ]
  },
  {
   "cell_type": "markdown",
   "id": "569ab5d9",
   "metadata": {},
   "source": [
    "# A\n",
    "## Функция распределения (ФР) иэмпирическая функция распределения (ЭФР)"
   ]
  },
  {
   "cell_type": "code",
   "execution_count": 5,
   "id": "4355cf00-6b16-4ac9-a2d7-78b271e1babb",
   "metadata": {},
   "outputs": [
    {
     "data": {
      "image/png": "[encoded data removed]",
      "text/plain": [
       "<Figure size 432x288 with 1 Axes>"
      ]
     },
     "metadata": {
      "needs_background": "light"
     },
     "output_type": "display_data"
    }
   ],
   "source": [
    "def plot_ecdf(values, xlim):\n",
    "    X_ = sorted(set(values))\n",
    "    Y_ = [np.mean(values < x) for x in X_]\n",
    "    X = sum([[v, v] for v in X_], [])\n",
    "    Y = sum([[v, v] for v in Y_], [])\n",
    "    Y = Y[1:]+[1]\n",
    "    plt.plot(X, Y)\n",
    "    return Y\n",
    "\n",
    "Y_ecdf = plot_ecdf(x_arr, [0, 9])\n",
    "\n",
    "X = np.arange(0, 10)\n",
    "Y = stats.uniform.cdf(X, loc = 0, scale = 9)\n",
    "plt.plot(X, Y, '--', color='k', label='ФР')\n",
    "\n",
    "plt.title('ФР и ЭФР равномерного распределения')\n",
    "plt.legend()\n",
    "plt.show()"
   ]
  },
  {
   "cell_type": "markdown",
   "id": "cd79bdba",
   "metadata": {},
   "source": [
    "## Дельта и p-value для Колмогорова"
   ]
  },
  {
   "cell_type": "code",
   "execution_count": 8,
   "id": "402a8806",
   "metadata": {},
   "outputs": [
    {
     "data": {
      "text/plain": [
       "1.4333333333333331"
      ]
     },
     "execution_count": 8,
     "metadata": {},
     "output_type": "execute_result"
    }
   ],
   "source": [
    "delta_ = max(abs(Y.repeat(2)-Y_ecdf))*100**0.5\n",
    "delta_ "
   ]
  },
  {
   "cell_type": "code",
   "execution_count": 9,
   "id": "6707eb3e",
   "metadata": {},
   "outputs": [
    {
     "name": "stdout",
     "output_type": "stream",
     "text": [
      "p_value = 0.032852176636945195\n"
     ]
    }
   ],
   "source": [
    "p_value = 0\n",
    "for i in range(1,1000):\n",
    "    p_value += -2*(-1**i)*np.exp(-2*i**2*delta_**2)\n",
    "print(f\"p_value = {p_value}\")\n"
   ]
  },
  {
   "cell_type": "markdown",
   "id": "aacd29a4",
   "metadata": {},
   "source": [
    "# B\n",
    "## Определение неизвестных параметров нормального распределения"
   ]
  },
  {
   "cell_type": "code",
   "execution_count": 22,
   "id": "c0a0cfdc",
   "metadata": {},
   "outputs": [],
   "source": [
    "limits = np.array(-np.inf)\n",
    "limits = np.append(limits, np.arange(0.5, 9, 1))\n",
    "limits = np.append(limits, np.inf)\n",
    "def integrand(x, sigma, m):\n",
    "    return 1/np.sqrt(2*np.pi*sigma**2)*np.exp(-(x-m)**2/(2*sigma**2))\n",
    "\n",
    "def best_param(x):\n",
    "    maxim = 0 \n",
    "    sigma_ = 0\n",
    "    m_ = 0\n",
    "    for sigma in np.arange(2, 3, 0.1):\n",
    "        for m in np.arange(3, 5, 0.1):\n",
    "            L = 1 \n",
    "            for i in range(0, len(limits)-1, ):\n",
    "                L *= quad(integrand, limits[i], limits[i+1], args = (sigma, m))[0]**x[i]\n",
    "            if (L > maxim):\n",
    "                maxim, sigma_, m_ = L, sigma, m\n",
    "    return sigma_, m_\n",
    "\n",
    "def best_param_omm(x_arr):\n",
    "    a1 = np.mean(x_arr)\n",
    "    a2 = np.mean(x_arr**2) \n",
    "    m_ = a1\n",
    "    sigma_ = (a2 - a1**2)**0.5\n",
    "    return sigma_, m_\n",
    "    \n",
    "    "
   ]
  },
  {
   "cell_type": "code",
   "execution_count": 23,
   "id": "25390df6",
   "metadata": {},
   "outputs": [
    {
     "name": "stdout",
     "output_type": "stream",
     "text": [
      "2.5054141374231933 4.77\n"
     ]
    }
   ],
   "source": [
    "z1, z2 = best_param_omm(x_arr)\n",
    "print(z1, z2)   "
   ]
  },
  {
   "cell_type": "code",
   "execution_count": 12,
   "id": "dfe4ce4a",
   "metadata": {},
   "outputs": [
    {
     "name": "stdout",
     "output_type": "stream",
     "text": [
      "2.7000000000000006 4.800000000000002\n"
     ]
    }
   ],
   "source": [
    "sigma_, m_ = best_param(x)\n",
    "print(sigma_, m_)       "
   ]
  },
  {
   "cell_type": "markdown",
   "id": "627a873d",
   "metadata": {},
   "source": [
    "## Расчет вероятностей по определленным параметрам и дельты"
   ]
  },
  {
   "cell_type": "code",
   "execution_count": 14,
   "id": "4afada07",
   "metadata": {},
   "outputs": [
    {
     "data": {
      "text/plain": [
       "9.779231990914937"
      ]
     },
     "execution_count": 14,
     "metadata": {},
     "output_type": "execute_result"
    }
   ],
   "source": [
    "probabilities = np.array([quad(integrand, limits[i], limits[i+1], args = (sigma_, m_))[0] for i in range(0, len(limits)-1)])\n",
    "delta_b = 0\n",
    "for i in range(len(x)):\n",
    "    delta_b += (x[i]-N*probabilities[i])**2/(N*probabilities[i])\n",
    "delta_b"
   ]
  },
  {
   "cell_type": "markdown",
   "id": "f724593c",
   "metadata": {},
   "source": [
    "## Колмогоров"
   ]
  },
  {
   "cell_type": "code",
   "execution_count": 25,
   "id": "c8ddcd33",
   "metadata": {},
   "outputs": [
    {
     "name": "stdout",
     "output_type": "stream",
     "text": [
      "basic delta in Kolmogorov = 1.0047572223260304\n"
     ]
    }
   ],
   "source": [
    "arr_f = np.array([])\n",
    "for i in range(0,10):\n",
    "    arr_f =  np.append(arr_f, quad(integrand, -np.inf, i, args = (sigma_, m_))[0])\n",
    "delta_b_kol = max(abs(arr_f.repeat(2) - Y_ecdf))*np.sqrt(N)\n",
    "print(f\"basic delta in Kolmogorov = {delta_b_kol}\")\n"
   ]
  },
  {
   "cell_type": "code",
   "execution_count": 26,
   "id": "2d61a551",
   "metadata": {},
   "outputs": [
    {
     "data": {
      "image/png": "[encoded data removed]",
      "text/plain": [
       "<Figure size 432x288 with 1 Axes>"
      ]
     },
     "metadata": {
      "needs_background": "light"
     },
     "output_type": "display_data"
    }
   ],
   "source": [
    "plot_ecdf(x_arr,[0,9])\n",
    "plt.plot(np.arange(0,10), arr_f)\n",
    "plt.title('ФР и ЭФР нормального распределения')\n",
    "plt.show() "
   ]
  },
  {
   "cell_type": "code",
   "execution_count": 40,
   "id": "b93450b5",
   "metadata": {},
   "outputs": [
    {
     "name": "stdout",
     "output_type": "stream",
     "text": [
      "Wall time: 6min 35s\n"
     ]
    }
   ],
   "source": [
    "%%time\n",
    "delta_arr = np.array([])\n",
    "for i in range(0, 50000):\n",
    "    bootstrap = np.sort(np.random.normal(m_, sigma_, N).astype(int))\n",
    "    sigma_i, m_i = best_param_omm(bootstrap)\n",
    "    arr_f = np.array([])\n",
    "    for j in range(0,10):\n",
    "        arr_f =  np.append(arr_f, quad(integrand, -np.inf, j, args = (sigma_i, m_i))[0])\n",
    "    delta_arr = np.append(delta_arr, max(abs(arr_f.repeat(2) - Y_ecdf))*np.sqrt(N))"
   ]
  },
  {
   "cell_type": "code",
   "execution_count": 47,
   "id": "a0a9dcf3",
   "metadata": {},
   "outputs": [
    {
     "name": "stdout",
     "output_type": "stream",
     "text": [
      "p_value by Kolmogorov and parametric_bootstrap = 0.95214\n",
      " Нет оснований отвергнуть H0\n"
     ]
    }
   ],
   "source": [
    "delta_arr.sort()\n",
    "k_ = sum(delta_arr < delta_b_kol)\n",
    "k_ += 1\n",
    "\n",
    "p_value_b_kol = 1 - (k_ - 1)/50000\n",
    "print(f\"p_value by Kolmogorov and parametric_bootstrap = {p_value_b_kol}\")\n",
    "print(\" Нет оснований отвергнуть H0\")"
   ]
  },
  {
   "cell_type": "markdown",
   "id": "458aca23",
   "metadata": {},
   "source": [
    "# C"
   ]
  },
  {
   "cell_type": "code",
   "execution_count": 41,
   "id": "c5aae266",
   "metadata": {},
   "outputs": [
    {
     "name": "stdout",
     "output_type": "stream",
     "text": [
      "2.5054141374231933 4.77\n"
     ]
    }
   ],
   "source": [
    "sigma_c, m_c = best_param_omm(x_arr)\n",
    "print(sigma_c, m_c) "
   ]
  },
  {
   "cell_type": "code",
   "execution_count": 44,
   "id": "4c99264e",
   "metadata": {},
   "outputs": [
    {
     "data": {
      "text/plain": [
       "array([ 5,  5,  6,  5,  2,  4,  4,  6,  5,  6,  6,  1,  6,  5,  6,  5,  7,\n",
       "        5,  5,  4,  8,  2,  3,  3,  9,  6,  8,  2,  6,  0,  2,  1,  6,  8,\n",
       "        0,  5,  7,  7,  6,  2,  2,  1,  3,  0,  3,  2,  1,  2, -2,  6,  8,\n",
       "        3,  1,  4,  3,  9,  3,  2,  7,  9,  8,  8,  8,  3,  6,  3,  9,  7,\n",
       "        7,  4,  6,  4,  5,  6,  9,  7,  9, 10,  5,  1,  8,  5,  6,  6,  6,\n",
       "        4,  6,  4,  2,  5,  3,  5,  5,  4,  8,  8,  0,  2,  5,  7])"
      ]
     },
     "execution_count": 44,
     "metadata": {},
     "output_type": "execute_result"
    }
   ],
   "source": [
    "probabilities_c = np.array([quad(integrand, limits[i], limits[i+1], args = (sigma_c, m_c))[0] for i in range(0, len(limits)-1)])\n",
    "delta_c = 0\n",
    "for i in range(len(x)):\n",
    "    delta_c += (x[i] - probabilities_c[i]*100)**2/(100*probabilities_c[i])\n",
    "delta_c\n",
    "np.random.normal(m_c, sigma_c, N).astype(int)\n"
   ]
  },
  {
   "cell_type": "code",
   "execution_count": 45,
   "id": "7b6f55e8",
   "metadata": {},
   "outputs": [],
   "source": [
    "delta_arr_c = np.array([])\n",
    "\n",
    "for i in range(0, 50000):\n",
    "    \n",
    "    bootstrap = np.sort(np.random.normal(m_c, sigma_c, N).astype(int))\n",
    "    count = np.array([])\n",
    "    for j in [0,1,2,3,4,5,6,7,8,9]: # there may not be a number in bootstrap\n",
    "        count = np.append(count, sum(bootstrap == j)) \n",
    "        \n",
    "    delta_i = 0\n",
    "    m_i = np.mean(bootstrap)\n",
    "    sigma_i = (np.mean(bootstrap**2) - m_i**2)**0.5\n",
    "    \n",
    "    probabilities_i = np.array([quad(integrand, limits[k], limits[k+1], args = (sigma_i, m_i))[0] for k in range(0, len(limits)-1)])\n",
    "    for j in range(0,10):\n",
    "        delta_i +=  (count[j] - probabilities_i[j]*100)**2/(100*probabilities_i[j])\n",
    "    delta_arr_c = np.append(delta_arr_c, delta_i)\n"
   ]
  },
  {
   "cell_type": "code",
   "execution_count": 60,
   "id": "8e0741d3",
   "metadata": {},
   "outputs": [
    {
     "name": "stdout",
     "output_type": "stream",
     "text": [
      "p_value = 0.21062000000000003\n",
      " нет оснований отвергнуть H0\n"
     ]
    }
   ],
   "source": [
    "delta_arr_c.sort()\n",
    "k_c = sum(delta_arr_c < delta_c)\n",
    "k_c += 1\n",
    "\n",
    "p_value_c = 1 - (k_c - 1)/50000\n",
    "print(f\"p_value = {p_value_c}\")\n",
    "print(\" нет оснований отвергнуть H0\")"
   ]
  },
  {
   "cell_type": "code",
   "execution_count": 59,
   "id": "83a22973",
   "metadata": {},
   "outputs": [
    {
     "data": {
      "image/png": "[encoded data removed]",
      "text/plain": [
       "<Figure size 432x288 with 1 Axes>"
      ]
     },
     "metadata": {
      "needs_background": "light"
     },
     "output_type": "display_data"
    }
   ],
   "source": [
    "def integrand_Xi(x, k):\n",
    "    return (x**(k/2-1))*np.exp(-x/2)/(2**(k/2)*math.gamma(k/2))\n",
    "arr_f_с = np.array([])\n",
    "arr_f_x9 = np.array([])\n",
    "arr_f_x8 = np.array([])\n",
    "arr_f_x7 = np.array([])\n",
    "for i in range(0,20):\n",
    "    #arr_f_с =  np.append(arr_f_с, quad(integrand, -np.inf, i, args = (sigma_c, m_c))[0])\n",
    "    arr_f_с =  np.append(arr_f_с, sum(delta_arr_c < i)/50000)\n",
    "    arr_f_x7 =  np.append(arr_f_x7, quad(integrand_Xi, 0, i, args = 7)[0])\n",
    "    arr_f_x8 =  np.append(arr_f_x8, quad(integrand_Xi, 0, i, args = 8)[0])\n",
    "    arr_f_x9 =  np.append(arr_f_x9, quad(integrand_Xi, 0, i, args = 9)[0])\n",
    "plt.plot(np.arange(0,20), arr_f_с, label=\"my\", color = 'red')\n",
    "plt.plot(np.arange(0,20), arr_f_x7, label = \"$X^2$ k = 7\", color = 'green')\n",
    "plt.plot(np.arange(0,20), arr_f_x8, label = \"$X^2$ k = 8\", color = 'yellow')\n",
    "plt.plot(np.arange(0,20), arr_f_x9, label = \"$\\chi^2$ k = 9\", color = \"blue\")\n",
    "plt.title(\"Сравнение рсапределений\")\n",
    "plt.legend()\n",
    "plt.show()"
   ]
  },
  {
   "cell_type": "code",
   "execution_count": null,
   "id": "06d78337",
   "metadata": {},
   "outputs": [],
   "source": []
  }
 ],
 "metadata": {
  "kernelspec": {
   "display_name": "Python 3 (ipykernel)",
   "language": "python",
   "name": "python3"
  },
  "language_info": {
   "codemirror_mode": {
    "name": "ipython",
    "version": 3
   },
   "file_extension": ".py",
   "mimetype": "text/x-python",
   "name": "python",
   "nbconvert_exporter": "python",
   "pygments_lexer": "ipython3",
   "version": "3.8.3"
  }
 },
 "nbformat": 4,
 "nbformat_minor": 5
}
