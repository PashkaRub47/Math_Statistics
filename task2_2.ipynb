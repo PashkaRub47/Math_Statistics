{
 "cells": [
  {
   "cell_type": "code",
   "execution_count": 1,
   "id": "1627d8e9-3f8a-467e-bb3b-8054a09a7a3c",
   "metadata": {},
   "outputs": [],
   "source": [
    "import matplotlib.pyplot as plt\n",
    "import numpy as np\n",
    "import scipy.stats as sps\n",
    "from scipy import stats\n",
    "import math \n",
    "import statistics \n",
    "from scipy.integrate import quad\n",
    "import seaborn as sns\n",
    "from scipy.stats import chi2, t, f, norm\n",
    "import pandas as pd "
   ]
  },
  {
   "cell_type": "markdown",
   "id": "f31eb0e3-f54a-4d64-98a4-2a36f0bf5477",
   "metadata": {},
   "source": [
    "# A"
   ]
  },
  {
   "cell_type": "code",
   "execution_count": 11,
   "id": "c42c9139-3e1c-4877-aa47-b5dac5e8b20e",
   "metadata": {},
   "outputs": [
    {
     "name": "stdout",
     "output_type": "stream",
     "text": [
      "84.00x1 + 85.50x2 + 87.82x3 + 90.00x4 + 91.00x5\n"
     ]
    }
   ],
   "source": [
    "data = pd.DataFrame({\"Ig\":[83,85,84,85,85,86,86,87,86,87,87,87,88,88,88,88,88,89,90,89,90,90,91,90,92],\n",
    "              \"age_group\":[1,1,2,2,2,2,2,2,3,3,3,3,3,3,3,3,3,3,3,4,4,4,4,5,5]})\n",
    "\n",
    "data = pd.concat((pd.get_dummies(data[\"age_group\"], dtype = \"int64\"), data), axis=1)\n",
    "data.drop(\"age_group\", axis = 1, inplace=True)\n",
    "\n",
    "feach_arr = data.loc[:, 1:5].to_numpy()\n",
    "target = data[\"Ig\"].to_numpy() \n",
    "N, p = feach_arr.shape\n",
    "\n",
    "F = feach_arr.T @ feach_arr\n",
    "F_inv = np.linalg.inv(F)\n",
    "beta = F_inv@feach_arr.T@target\n",
    "print(f\"{beta[0]:.2f}x1 + {beta[1]:.2f}x2 + {beta[2]:.2f}x3 + {beta[3]:.2f}x4 + {beta[4]:.2f}x5\") "
   ]
  },
  {
   "cell_type": "code",
   "execution_count": 13,
   "id": "a679e137-2b17-4578-847c-5580fa3fc491",
   "metadata": {},
   "outputs": [
    {
     "name": "stdout",
     "output_type": "stream",
     "text": [
      "p-value: 4.327125635758729e-05\n",
      "\n",
      "Отвергаем H0 о незначимости регрессии\n"
     ]
    }
   ],
   "source": [
    "RSS = (target - feach_arr@beta).T @ (target - feach_arr@beta)\n",
    "TSS = np.sum((target - target.mean())**2)\n",
    "R_2 = 1-RSS/TSS\n",
    "\n",
    "delta = R_2/(1-R_2**2)*(N-p)/(p-1)\n",
    "print(f\"p-value: {f.sf(delta, p-1, N-p)}\")\n",
    "print('\\nОтвергаем H0 о незначимости регрессии')"
   ]
  },
  {
   "cell_type": "markdown",
   "id": "36b1b853-cd15-4577-b9b0-49b9a5c1eae9",
   "metadata": {},
   "source": [
    "# B"
   ]
  },
  {
   "cell_type": "code",
   "execution_count": 16,
   "id": "edab1fde-2dee-4b7b-ac51-c74c5ebfcecf",
   "metadata": {},
   "outputs": [
    {
     "name": "stdout",
     "output_type": "stream",
     "text": [
      "p-value: 0.10310040890082377, 1 и 2 => возрастные группы однородны;\n",
      "p-value: 0.00016620144877556306, отвергаем гипотезу о равенстве коэффициентов => 1 и 3 возрастные группы не однородны;\n",
      "p-value: 2.7821115006554983e-06, отвергаем гипотезу о равенстве коэффициентов => 1 и 4 возрастные группы не однородны;\n",
      "p-value: 2.4125702768335763e-06, отвергаем гипотезу о равенстве коэффициентов => 1 и 5 возрастные группы не однородны;\n",
      "p-value: 0.00039504010033405404, отвергаем гипотезу о равенстве коэффициентов => 2 и 3 возрастные группы не однородны;\n",
      "p-value: 2.553472490732934e-06, отвергаем гипотезу о равенстве коэффициентов => 2 и 4 возрастные группы не однородны;\n",
      "p-value: 4.0851831050086206e-06, отвергаем гипотезу о равенстве коэффициентов => 2 и 5 возрастные группы не однородны;\n",
      "p-value: 0.002393338704362199, отвергаем гипотезу о равенстве коэффициентов => 3 и 4 возрастные группы не однородны;\n",
      "p-value: 0.0010025629060045334, отвергаем гипотезу о равенстве коэффициентов => 3 и 5 возрастные группы не однородны;\n",
      "p-value: 0.2957913522747472, 4 и 5 => возрастные группы однородны;\n"
     ]
    }
   ],
   "source": [
    "for i in range(p):\n",
    "    for j in range(i+1,p):\n",
    "        delta_ij = (beta[i] - beta[j])/(np.sqrt(RSS*(F_inv[i,i] + F_inv[j,j])))*np.sqrt(N-p)\n",
    "        p_value_ij = 2*t.sf(abs(delta_ij), N-p)\n",
    "        if p_value_ij > 0.05:\n",
    "            print(f\"p-value: {p_value_ij}, {i+1} и {j+1} => возрастные группы однородны;\")\n",
    "        else:\n",
    "            print(f\"p-value: {p_value_ij}, отвергаем гипотезу о равенстве коэффициентов => {i+1} и {j+1} возрастные группы не однородны;\")\n",
    "            "
   ]
  },
  {
   "cell_type": "code",
   "execution_count": null,
   "id": "3bc6a0a3-0308-427f-8500-03fe686a1875",
   "metadata": {},
   "outputs": [],
   "source": []
  }
 ],
 "metadata": {
  "kernelspec": {
   "display_name": "Python 3 (ipykernel)",
   "language": "python",
   "name": "python3"
  },
  "language_info": {
   "codemirror_mode": {
    "name": "ipython",
    "version": 3
   },
   "file_extension": ".py",
   "mimetype": "text/x-python",
   "name": "python",
   "nbconvert_exporter": "python",
   "pygments_lexer": "ipython3",
   "version": "3.8.3"
  }
 },
 "nbformat": 4,
 "nbformat_minor": 5
}
