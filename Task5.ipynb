{
 "cells": [
  {
   "cell_type": "code",
   "execution_count": 1,
   "id": "322c865d-0b67-465d-bdad-a42cdd4144b8",
   "metadata": {},
   "outputs": [],
   "source": [
    "import matplotlib.pyplot as plt\n",
    "import numpy as np\n",
    "import scipy.stats as sps\n",
    "from scipy.stats import pareto\n",
    "import math \n",
    "import statistics \n",
    "from scipy.integrate import quad\n",
    "import seaborn as sns\n"
   ]
  },
  {
   "cell_type": "code",
   "execution_count": 2,
   "id": "2f5fbb06-e881-4384-ad09-e473235f7c01",
   "metadata": {},
   "outputs": [
    {
     "data": {
      "text/plain": [
       "5.10473586353302"
      ]
     },
     "execution_count": 2,
     "metadata": {},
     "output_type": "execute_result"
    }
   ],
   "source": [
    "def teta_est(x):\n",
    "    return n/sum(np.log(x)) + 1\n",
    "n = 100\n",
    "teta = 5\n",
    "x = pareto.rvs(b=teta-1, size=n)\n",
    "teta_e = teta_est(x)\n",
    "teta_e"
   ]
  },
  {
   "cell_type": "markdown",
   "id": "03b4014b-5d59-41ef-b4d0-e051a338fff2",
   "metadata": {},
   "source": [
    "# Доверительный интервал"
   ]
  },
  {
   "cell_type": "markdown",
   "id": "f2d5f0fa-36b9-4d29-ab1b-ee298bedba69",
   "metadata": {},
   "source": [
    "## Для медианы"
   ]
  },
  {
   "cell_type": "code",
   "execution_count": 3,
   "id": "2e83bf60-9c28-49d6-bc7c-5a3cc629f78c",
   "metadata": {},
   "outputs": [
    {
     "name": "stdout",
     "output_type": "stream",
     "text": [
      "(1.1447743335554044, 1.2231468066375741)\n",
      "1.2026188369897066\n"
     ]
    }
   ],
   "source": [
    "a1_med = 2**(1/(teta_e-1)) - 1.96*2**(1/(teta_e-1))*np.log(2)/((teta_e-1)*n**0.5)\n",
    "a2_med = 2**(1/(teta_e-1)) + 1.96*2**(1/(teta_e-1))*np.log(2)/((teta_e-1)*n**0.5)\n",
    "print((a1_med, a2_med))\n",
    "print(statistics.median(x))"
   ]
  },
  {
   "cell_type": "markdown",
   "id": "c187b64d-0847-4796-acda-72deec49973c",
   "metadata": {},
   "source": [
    "## Баесовский Д.И"
   ]
  },
  {
   "cell_type": "code",
   "execution_count": 4,
   "id": "e230ce5c-45da-4a26-821f-d2e6be2a0f3f",
   "metadata": {},
   "outputs": [],
   "source": [
    "import decimal\n",
    "decimal.getcontext().prec = 100"
   ]
  },
  {
   "cell_type": "code",
   "execution_count": 5,
   "id": "20482896-14b4-49ae-be76-75876ecdf819",
   "metadata": {},
   "outputs": [],
   "source": [
    "def integrand(tet, x_prod, n):\n",
    "    return ( ((decimal.Decimal(tet - 1))**decimal.Decimal(n))*np.exp(decimal.Decimal(1-tet))\n",
    "            /decimal.Decimal(decimal.Decimal(x_prod)**decimal.Decimal(tet)) )"
   ]
  },
  {
   "cell_type": "code",
   "execution_count": 6,
   "id": "b9bc7672-54d6-40c1-aa81-ed894b4a4c65",
   "metadata": {},
   "outputs": [],
   "source": [
    "x_prod = x.prod()\n",
    "res = quad(integrand, 1, np.inf, args=(decimal.Decimal(x_prod), decimal.Decimal(n)))"
   ]
  },
  {
   "cell_type": "code",
   "execution_count": 7,
   "id": "fc906074-b3c4-4b45-b21b-23ecbde8e40a",
   "metadata": {},
   "outputs": [
    {
     "data": {
      "text/plain": [
       "2.7104151337783086e-06"
      ]
     },
     "execution_count": 7,
     "metadata": {},
     "output_type": "execute_result"
    }
   ],
   "source": [
    "c = 1/res[0]\n",
    "c "
   ]
  },
  {
   "cell_type": "code",
   "execution_count": 8,
   "id": "58a52dbe-af6a-4cf0-aea7-ecea42b40a97",
   "metadata": {},
   "outputs": [],
   "source": [
    "def integrand_с(tet, x_prod, n, c):\n",
    "    return ( decimal.Decimal(c)*((decimal.Decimal(tet - 1))**decimal.Decimal(n))*np.exp(decimal.Decimal(1-tet))\n",
    "            /decimal.Decimal(decimal.Decimal(x_prod)**decimal.Decimal(tet)) )"
   ]
  },
  {
   "cell_type": "code",
   "execution_count": 9,
   "id": "824b2921-63a7-4bab-9514-b2cebd9cc13a",
   "metadata": {},
   "outputs": [
    {
     "data": {
      "text/plain": [
       "(4.246246246246246, 5.791791791791791)"
      ]
     },
     "execution_count": 9,
     "metadata": {},
     "output_type": "execute_result"
    }
   ],
   "source": [
    "a1_bay = 0\n",
    "a2_bay = teta*10\n",
    "\n",
    "for y in np.linspace(2, 6, num = 1000):\n",
    "    res_low = quad(integrand_с, 1, y, args=(decimal.Decimal(x_prod), decimal.Decimal(n), decimal.Decimal(c)))\n",
    "    res_high = quad(integrand_с, y, np.inf, args=(decimal.Decimal(x_prod), decimal.Decimal(n), decimal.Decimal(c)))\n",
    "    if abs(res_high[0] - 0.025) < 0.001 and y < a2_bay :\n",
    "        a2_bay = y\n",
    "    if abs(res_low[0] - 0.025) < 0.001:\n",
    "        a1_bay = y\n",
    "a1_bay, a2_bay"
   ]
  },
  {
   "cell_type": "markdown",
   "id": "2677e40c-4ff7-463e-8b36-a68da11b893a",
   "metadata": {},
   "source": [
    "## Асимптотический Д.И."
   ]
  },
  {
   "cell_type": "code",
   "execution_count": 10,
   "id": "d55a6e89-4eb2-430b-9f81-a24e8e16dc07",
   "metadata": {},
   "outputs": [
    {
     "data": {
      "text/plain": [
       "(4.300207634280548, 5.909264092785492)"
      ]
     },
     "execution_count": 10,
     "metadata": {},
     "output_type": "execute_result"
    }
   ],
   "source": [
    "a1_as = teta_e - 1.96*(teta_e - 1)/(n**0.5)\n",
    "a2_as = teta_e + 1.96*(teta_e - 1)/(n**0.5)\n",
    "(a1_as, a2_as)"
   ]
  },
  {
   "cell_type": "markdown",
   "id": "9336c5fe-9352-496e-aff9-6c58066816cb",
   "metadata": {},
   "source": [
    "## Bootstrap"
   ]
  },
  {
   "cell_type": "code",
   "execution_count": 11,
   "id": "468ceaf1-826d-4759-9baa-8a1d3488d452",
   "metadata": {},
   "outputs": [
    {
     "data": {
      "text/plain": [
       "(4.0542811112188035, 5.951720704945444)"
      ]
     },
     "execution_count": 11,
     "metadata": {},
     "output_type": "execute_result"
    }
   ],
   "source": [
    "delta = np.array([])\n",
    "teta_b = np.array([])\n",
    "\n",
    "for i in range(0,1000):\n",
    "    bootstrap = np.random.choice(x, size = x.shape[0]).round(2) \n",
    "    delta = np.append(delta, teta_est(bootstrap) - teta_e)\n",
    "    teta_b = np.append(teta_b, teta_est(bootstrap))\n",
    "    \n",
    "\n",
    "delta.sort() \n",
    "a1_boot, a2_boot = teta_e - delta[974], teta_e - delta[24]\n",
    "(a1_boot, a2_boot)"
   ]
  },
  {
   "cell_type": "markdown",
   "id": "a58531cc-95b5-4851-a5a5-cbaeaa096b64",
   "metadata": {},
   "source": [
    "## Параметрический Bootstrap\n",
    " "
   ]
  },
  {
   "cell_type": "code",
   "execution_count": 13,
   "id": "ce8ff8de-05b5-492f-99f5-fdd6ecb7b62c",
   "metadata": {},
   "outputs": [
    {
     "data": {
      "text/plain": [
       "(4.299596480557341, 5.903556677766785)"
      ]
     },
     "execution_count": 13,
     "metadata": {},
     "output_type": "execute_result"
    }
   ],
   "source": [
    "d_par = np.array([])\n",
    "\n",
    "for i in range(50000):\n",
    "    boot_par = pareto.rvs(b = teta-1, size=n)\n",
    "    d_par = np.append(d_par, teta_est(boot_par) - teta_e)\n",
    "\n",
    "d_par.sort() \n",
    "(a1_boot_par, a2_boot_par) = ( teta_e - d_par[int(d_par.shape[0]*0.974)],\n",
    "                               teta_e - d_par[int(d_par.shape[0]*0.024)] )\n",
    "(a1_boot_par, a2_boot_par)"
   ]
  },
  {
   "cell_type": "code",
   "execution_count": 14,
   "id": "f6ec9b59-2297-4a6d-a87f-aa98e94844e7",
   "metadata": {},
   "outputs": [
    {
     "data": {
      "text/plain": [
       "<matplotlib.legend.Legend at 0x12f3c80a2b0>"
      ]
     },
     "execution_count": 14,
     "metadata": {},
     "output_type": "execute_result"
    },
    {
     "data": {
      "image/png": "[encoded data removed]",
      "text/plain": [
       "<Figure size 576x360 with 1 Axes>"
      ]
     },
     "metadata": {
      "needs_background": "light"
     },
     "output_type": "display_data"
    }
   ],
   "source": [
    "fig, ax = plt.subplots(figsize=(8,5))\n",
    "\n",
    "ax.plot([a1_bay, a2_bay], [0, 0], label = 'Bayes')\n",
    "ax.plot([a1_as, a2_as], [1, 1], label = 'Asympt')\n",
    "ax.plot([a1_boot, a2_boot], [2, 2], label = 'Bootstrap')\n",
    "ax.plot([a1_boot_par, a2_boot_par], [3, 3], label = 'Par Bootstrap')\n",
    "\n",
    "ax.plot([teta, teta], [-1, 4], label = 'Real teta')\n",
    "\n",
    "ax.set_xlabel('theta interval')\n",
    "ax.legend(loc = 'best')"
   ]
  },
  {
   "cell_type": "code",
   "execution_count": null,
   "id": "fcd8b3cb-4604-4c4a-96de-91f5228ff513",
   "metadata": {},
   "outputs": [],
   "source": []
  }
 ],
 "metadata": {
  "kernelspec": {
   "display_name": "Python 3 (ipykernel)",
   "language": "python",
   "name": "python3"
  },
  "language_info": {
   "codemirror_mode": {
    "name": "ipython",
    "version": 3
   },
   "file_extension": ".py",
   "mimetype": "text/x-python",
   "name": "python",
   "nbconvert_exporter": "python",
   "pygments_lexer": "ipython3",
   "version": "3.8.3"
  }
 },
 "nbformat": 4,
 "nbformat_minor": 5
}
